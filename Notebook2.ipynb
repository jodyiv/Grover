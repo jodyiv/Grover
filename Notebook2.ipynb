{
 "cells": [
  {
   "cell_type": "code",
   "execution_count": 3,
   "id": "ea8cd2f3-6a5d-4c88-a2f2-5b9678cab119",
   "metadata": {
    "id": "3aa2e047-dedc-42e5-943f-2bc274cea775",
    "tags": []
   },
   "outputs": [
    {
     "name": "stdout",
     "output_type": "stream",
     "text": [
      "hello world. This is notebook 2\n"
     ]
    }
   ],
   "source": [
    "print ('hello world. This is notebook 2')"
   ]
  },
  {
   "cell_type": "code",
   "execution_count": null,
   "id": "0b1e6f83-51d3-440a-9969-b036082dacd2",
   "metadata": {
    "id": "0b1e6f83-51d3-440a-9969-b036082dacd2"
   },
   "outputs": [],
   "source": []
  }
 ],
 "metadata": {
  "kernelspec": {
   "display_name": "Python 3.9",
   "language": "python",
   "name": "python3"
  },
  "language_info": {
   "codemirror_mode": {
    "name": "ipython",
    "version": 3
   },
   "file_extension": ".py",
   "mimetype": "text/x-python",
   "name": "python",
   "nbconvert_exporter": "python",
   "pygments_lexer": "ipython3",
   "version": "3.9.7"
  }
 },
 "nbformat": 4,
 "nbformat_minor": 5
}
