{
 "cells": [
  {
   "cell_type": "code",
   "execution_count": 2,
   "id": "e2ec5bb9-3bd0-49a4-88bf-e6310cc2e174",
   "metadata": {
    "id": "0f9ca249-7d6f-4934-9316-e9ca1545a605",
    "tags": []
   },
   "outputs": [
    {
     "name": "stdout",
     "output_type": "stream",
     "text": [
      "hello world. This is notebook 1\n"
     ]
    }
   ],
   "source": [
    "print ('hello world. This is notebook 1')"
   ]
  },
  {
   "cell_type": "code",
   "execution_count": null,
   "id": "1895620a-1c62-41a3-9a4d-b2d8ec30c696",
   "metadata": {
    "id": "1895620a-1c62-41a3-9a4d-b2d8ec30c696"
   },
   "outputs": [],
   "source": []
  }
 ],
 "metadata": {
  "kernelspec": {
   "display_name": "Python 3.9",
   "language": "python",
   "name": "python3"
  },
  "language_info": {
   "codemirror_mode": {
    "name": "ipython",
    "version": 3
   },
   "file_extension": ".py",
   "mimetype": "text/x-python",
   "name": "python",
   "nbconvert_exporter": "python",
   "pygments_lexer": "ipython3",
   "version": "3.9.7"
  }
 },
 "nbformat": 4,
 "nbformat_minor": 5
}
